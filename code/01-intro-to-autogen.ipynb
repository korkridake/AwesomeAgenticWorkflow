{
 "cells": [
  {
   "cell_type": "code",
   "execution_count": 1,
   "metadata": {},
   "outputs": [
    {
     "name": "stdout",
     "output_type": "stream",
     "text": [
      "Python 3.10.13\n"
     ]
    }
   ],
   "source": [
    "!python --version"
   ]
  },
  {
   "cell_type": "code",
   "execution_count": 13,
   "metadata": {},
   "outputs": [
    {
     "name": "stdout",
     "output_type": "stream",
     "text": [
      "Requirement already satisfied: yfinance in /workspaces/MSFT-AutoGen/.venv/lib/python3.10/site-packages (0.2.40)\n",
      "Requirement already satisfied: pandas>=1.3.0 in /workspaces/MSFT-AutoGen/.venv/lib/python3.10/site-packages (from yfinance) (2.2.2)\n",
      "Requirement already satisfied: numpy>=1.16.5 in /workspaces/MSFT-AutoGen/.venv/lib/python3.10/site-packages (from yfinance) (1.26.4)\n",
      "Requirement already satisfied: requests>=2.31 in /workspaces/MSFT-AutoGen/.venv/lib/python3.10/site-packages (from yfinance) (2.32.3)\n",
      "Requirement already satisfied: multitasking>=0.0.7 in /workspaces/MSFT-AutoGen/.venv/lib/python3.10/site-packages (from yfinance) (0.0.11)\n",
      "Requirement already satisfied: lxml>=4.9.1 in /workspaces/MSFT-AutoGen/.venv/lib/python3.10/site-packages (from yfinance) (5.2.2)\n",
      "Requirement already satisfied: platformdirs>=2.0.0 in /workspaces/MSFT-AutoGen/.venv/lib/python3.10/site-packages (from yfinance) (4.2.2)\n",
      "Requirement already satisfied: pytz>=2022.5 in /workspaces/MSFT-AutoGen/.venv/lib/python3.10/site-packages (from yfinance) (2024.1)\n",
      "Requirement already satisfied: frozendict>=2.3.4 in /workspaces/MSFT-AutoGen/.venv/lib/python3.10/site-packages (from yfinance) (2.4.4)\n",
      "Requirement already satisfied: peewee>=3.16.2 in /workspaces/MSFT-AutoGen/.venv/lib/python3.10/site-packages (from yfinance) (3.17.5)\n",
      "Requirement already satisfied: beautifulsoup4>=4.11.1 in /workspaces/MSFT-AutoGen/.venv/lib/python3.10/site-packages (from yfinance) (4.12.3)\n",
      "Requirement already satisfied: html5lib>=1.1 in /workspaces/MSFT-AutoGen/.venv/lib/python3.10/site-packages (from yfinance) (1.1)\n",
      "Requirement already satisfied: soupsieve>1.2 in /workspaces/MSFT-AutoGen/.venv/lib/python3.10/site-packages (from beautifulsoup4>=4.11.1->yfinance) (2.5)\n",
      "Requirement already satisfied: six>=1.9 in /workspaces/MSFT-AutoGen/.venv/lib/python3.10/site-packages (from html5lib>=1.1->yfinance) (1.16.0)\n",
      "Requirement already satisfied: webencodings in /workspaces/MSFT-AutoGen/.venv/lib/python3.10/site-packages (from html5lib>=1.1->yfinance) (0.5.1)\n",
      "Requirement already satisfied: python-dateutil>=2.8.2 in /workspaces/MSFT-AutoGen/.venv/lib/python3.10/site-packages (from pandas>=1.3.0->yfinance) (2.9.0.post0)\n",
      "Requirement already satisfied: tzdata>=2022.7 in /workspaces/MSFT-AutoGen/.venv/lib/python3.10/site-packages (from pandas>=1.3.0->yfinance) (2024.1)\n",
      "Requirement already satisfied: charset-normalizer<4,>=2 in /workspaces/MSFT-AutoGen/.venv/lib/python3.10/site-packages (from requests>=2.31->yfinance) (3.3.2)\n",
      "Requirement already satisfied: idna<4,>=2.5 in /workspaces/MSFT-AutoGen/.venv/lib/python3.10/site-packages (from requests>=2.31->yfinance) (3.7)\n",
      "Requirement already satisfied: urllib3<3,>=1.21.1 in /workspaces/MSFT-AutoGen/.venv/lib/python3.10/site-packages (from requests>=2.31->yfinance) (2.2.2)\n",
      "Requirement already satisfied: certifi>=2017.4.17 in /workspaces/MSFT-AutoGen/.venv/lib/python3.10/site-packages (from requests>=2.31->yfinance) (2024.6.2)\n"
     ]
    }
   ],
   "source": [
    "!pip install pyautogen\n",
    "!pip install yfinance"
   ]
  },
  {
   "cell_type": "code",
   "execution_count": 14,
   "metadata": {},
   "outputs": [],
   "source": [
    "import autogen\n",
    "import yfinance as yf"
   ]
  },
  {
   "cell_type": "code",
   "execution_count": 11,
   "metadata": {},
   "outputs": [],
   "source": [
    "config_list = [\n",
    "    {\n",
    "        'model': 'KK-GPT-4OH',\n",
    "        'api_key': 'xxxxxxx',\n",
    "        'base_url': 'xxxxxxx',\n",
    "        'api_type': 'azure',\n",
    "        'api_version': '2024-02-15-preview',\n",
    "    }\n",
    "]"
   ]
  },
  {
   "cell_type": "code",
   "execution_count": 21,
   "metadata": {},
   "outputs": [
    {
     "name": "stdout",
     "output_type": "stream",
     "text": [
      "\u001b[33muser_proxy\u001b[0m (to assistant):\n",
      "\n",
      "What date is today? Do a Bivariate Analysis of Google Stock since the beginning of the year\n",
      "\n",
      "--------------------------------------------------------------------------------\n"
     ]
    },
    {
     "name": "stdout",
     "output_type": "stream",
     "text": [
      "\u001b[33massistant\u001b[0m (to user_proxy):\n",
      "\n",
      "To perform the requested tasks, we need to follow these steps:\n",
      "\n",
      "1. Get the current date.\n",
      "2. Download Google stock data since the beginning of the year.\n",
      "3. Perform a bivariate analysis on the stock data.\n",
      "\n",
      "Let's start with step 1: Get the current date.\n",
      "\n",
      "```python\n",
      "from datetime import datetime\n",
      "\n",
      "# Get the current date\n",
      "current_date = datetime.now().strftime(\"%Y-%m-%d\")\n",
      "print(f\"Today's date is: {current_date}\")\n",
      "```\n",
      "\n",
      "Please execute the above code to get the current date. Once we have the current date, we can proceed to download the Google stock data and perform the bivariate analysis.\n",
      "\n",
      "--------------------------------------------------------------------------------\n",
      "\u001b[31m\n",
      ">>>>>>>> EXECUTING CODE BLOCK 0 (inferred language is python)...\u001b[0m\n",
      "\u001b[33muser_proxy\u001b[0m (to assistant):\n",
      "\n",
      "exitcode: 0 (execution succeeded)\n",
      "Code output: \n",
      "Today's date is: 2024-06-25\n",
      "\n",
      "\n",
      "--------------------------------------------------------------------------------\n",
      "\u001b[33massistant\u001b[0m (to user_proxy):\n",
      "\n",
      "Great! Now that we have the current date, we can proceed to download the Google stock data since the beginning of the year and perform a bivariate analysis.\n",
      "\n",
      "We'll use the `yfinance` library to download the stock data. If you don't have it installed, the script will include the installation step. The bivariate analysis will involve plotting the closing prices and volumes to see if there's any relationship between them.\n",
      "\n",
      "Here's the complete script:\n",
      "\n",
      "```python\n",
      "# filename: google_stock_analysis.py\n",
      "\n",
      "import yfinance as yf\n",
      "import pandas as pd\n",
      "import matplotlib.pyplot as plt\n",
      "import seaborn as sns\n",
      "from datetime import datetime\n",
      "\n",
      "# Get the current date\n",
      "current_date = datetime.now().strftime(\"%Y-%m-%d\")\n",
      "\n",
      "# Define the start date (beginning of the year)\n",
      "start_date = f\"{datetime.now().year}-01-01\"\n",
      "\n",
      "# Download Google stock data\n",
      "ticker = \"GOOGL\"\n",
      "data = yf.download(ticker, start=start_date, end=current_date)\n",
      "\n",
      "# Check if data is available\n",
      "if data.empty:\n",
      "    print(\"No data found for the specified date range.\")\n",
      "else:\n",
      "    # Perform bivariate analysis\n",
      "    # Plotting Closing Price vs Volume\n",
      "    plt.figure(figsize=(14, 7))\n",
      "    sns.scatterplot(x=data['Volume'], y=data['Close'])\n",
      "    plt.title('Bivariate Analysis of Google Stock (Closing Price vs Volume)')\n",
      "    plt.xlabel('Volume')\n",
      "    plt.ylabel('Closing Price')\n",
      "    plt.grid(True)\n",
      "    plt.show()\n",
      "\n",
      "    # Print the first few rows of the data for reference\n",
      "    print(data.head())\n",
      "```\n",
      "\n",
      "Please save the above code in a file named `google_stock_analysis.py` and execute it. This script will:\n",
      "1. Download the Google stock data from the beginning of the year to the current date.\n",
      "2. Perform a bivariate analysis by plotting the closing prices against the volumes.\n",
      "3. Display the first few rows of the data for reference.\n",
      "\n",
      "Let me know the results of the execution.\n",
      "\n",
      "--------------------------------------------------------------------------------\n",
      "\u001b[31m\n",
      ">>>>>>>> EXECUTING CODE BLOCK 0 (inferred language is python)...\u001b[0m\n",
      "\u001b[33muser_proxy\u001b[0m (to assistant):\n",
      "\n",
      "exitcode: 0 (execution succeeded)\n",
      "Code output: \n",
      "Figure(1400x700)\n",
      "                  Open        High  ...   Adj Close    Volume\n",
      "Date                                ...                      \n",
      "2024-01-02  138.550003  139.449997  ...  138.011597  23711200\n",
      "2024-01-03  137.250000  139.630005  ...  138.760742  24212100\n",
      "2024-01-04  138.419998  139.160004  ...  136.233643  27137700\n",
      "2024-01-05  136.750000  137.160004  ...  135.574402  22506000\n",
      "2024-01-08  136.289993  139.009995  ...  138.680832  21404000\n",
      "\n",
      "[5 rows x 6 columns]\n",
      "\n",
      "\n",
      "--------------------------------------------------------------------------------\n",
      "\u001b[33massistant\u001b[0m (to user_proxy):\n",
      "\n",
      "The script executed successfully, and the bivariate analysis plot of Google's stock closing prices versus volumes was generated. The first few rows of the data were also printed for reference.\n",
      "\n",
      "To summarize:\n",
      "- The current date is: 2024-06-25\n",
      "- The Google stock data from the beginning of the year to the current date was successfully downloaded.\n",
      "- A scatter plot showing the relationship between the closing prices and volumes was generated.\n",
      "\n",
      "The bivariate analysis helps in understanding if there's any visible relationship between the stock's closing prices and its trading volumes. If you need any further analysis or have any other questions, feel free to ask.\n",
      "\n",
      "TERMINATE\n",
      "\n",
      "--------------------------------------------------------------------------------\n"
     ]
    },
    {
     "data": {
      "text/plain": [
       "ChatResult(chat_id=None, chat_history=[{'content': 'What date is today? Do a Bivariate Analysis of Google Stock since the beginning of the year', 'role': 'assistant'}, {'content': 'To perform the requested tasks, we need to follow these steps:\\n\\n1. Get the current date.\\n2. Download Google stock data since the beginning of the year.\\n3. Perform a bivariate analysis on the stock data.\\n\\nLet\\'s start with step 1: Get the current date.\\n\\n```python\\nfrom datetime import datetime\\n\\n# Get the current date\\ncurrent_date = datetime.now().strftime(\"%Y-%m-%d\")\\nprint(f\"Today\\'s date is: {current_date}\")\\n```\\n\\nPlease execute the above code to get the current date. Once we have the current date, we can proceed to download the Google stock data and perform the bivariate analysis.', 'role': 'user'}, {'content': \"exitcode: 0 (execution succeeded)\\nCode output: \\nToday's date is: 2024-06-25\\n\", 'role': 'assistant'}, {'content': 'Great! Now that we have the current date, we can proceed to download the Google stock data since the beginning of the year and perform a bivariate analysis.\\n\\nWe\\'ll use the `yfinance` library to download the stock data. If you don\\'t have it installed, the script will include the installation step. The bivariate analysis will involve plotting the closing prices and volumes to see if there\\'s any relationship between them.\\n\\nHere\\'s the complete script:\\n\\n```python\\n# filename: google_stock_analysis.py\\n\\nimport yfinance as yf\\nimport pandas as pd\\nimport matplotlib.pyplot as plt\\nimport seaborn as sns\\nfrom datetime import datetime\\n\\n# Get the current date\\ncurrent_date = datetime.now().strftime(\"%Y-%m-%d\")\\n\\n# Define the start date (beginning of the year)\\nstart_date = f\"{datetime.now().year}-01-01\"\\n\\n# Download Google stock data\\nticker = \"GOOGL\"\\ndata = yf.download(ticker, start=start_date, end=current_date)\\n\\n# Check if data is available\\nif data.empty:\\n    print(\"No data found for the specified date range.\")\\nelse:\\n    # Perform bivariate analysis\\n    # Plotting Closing Price vs Volume\\n    plt.figure(figsize=(14, 7))\\n    sns.scatterplot(x=data[\\'Volume\\'], y=data[\\'Close\\'])\\n    plt.title(\\'Bivariate Analysis of Google Stock (Closing Price vs Volume)\\')\\n    plt.xlabel(\\'Volume\\')\\n    plt.ylabel(\\'Closing Price\\')\\n    plt.grid(True)\\n    plt.show()\\n\\n    # Print the first few rows of the data for reference\\n    print(data.head())\\n```\\n\\nPlease save the above code in a file named `google_stock_analysis.py` and execute it. This script will:\\n1. Download the Google stock data from the beginning of the year to the current date.\\n2. Perform a bivariate analysis by plotting the closing prices against the volumes.\\n3. Display the first few rows of the data for reference.\\n\\nLet me know the results of the execution.', 'role': 'user'}, {'content': 'exitcode: 0 (execution succeeded)\\nCode output: \\nFigure(1400x700)\\n                  Open        High  ...   Adj Close    Volume\\nDate                                ...                      \\n2024-01-02  138.550003  139.449997  ...  138.011597  23711200\\n2024-01-03  137.250000  139.630005  ...  138.760742  24212100\\n2024-01-04  138.419998  139.160004  ...  136.233643  27137700\\n2024-01-05  136.750000  137.160004  ...  135.574402  22506000\\n2024-01-08  136.289993  139.009995  ...  138.680832  21404000\\n\\n[5 rows x 6 columns]\\n', 'role': 'assistant'}, {'content': \"The script executed successfully, and the bivariate analysis plot of Google's stock closing prices versus volumes was generated. The first few rows of the data were also printed for reference.\\n\\nTo summarize:\\n- The current date is: 2024-06-25\\n- The Google stock data from the beginning of the year to the current date was successfully downloaded.\\n- A scatter plot showing the relationship between the closing prices and volumes was generated.\\n\\nThe bivariate analysis helps in understanding if there's any visible relationship between the stock's closing prices and its trading volumes. If you need any further analysis or have any other questions, feel free to ask.\\n\\nTERMINATE\", 'role': 'user'}], summary=\"The script executed successfully, and the bivariate analysis plot of Google's stock closing prices versus volumes was generated. The first few rows of the data were also printed for reference.\\n\\nTo summarize:\\n- The current date is: 2024-06-25\\n- The Google stock data from the beginning of the year to the current date was successfully downloaded.\\n- A scatter plot showing the relationship between the closing prices and volumes was generated.\\n\\nThe bivariate analysis helps in understanding if there's any visible relationship between the stock's closing prices and its trading volumes. If you need any further analysis or have any other questions, feel free to ask.\\n\\n\", cost={'usage_including_cached_inference': {'total_cost': 0.02191, 'gpt-4o-2024-05-13': {'cost': 0.02191, 'prompt_tokens': 2393, 'completion_tokens': 663, 'total_tokens': 3056}}, 'usage_excluding_cached_inference': {'total_cost': 0}}, human_input=[])"
      ]
     },
     "execution_count": 21,
     "metadata": {},
     "output_type": "execute_result"
    }
   ],
   "source": [
    "# create an AssistantAgent named \"assistant\"\n",
    "assistant = autogen.AssistantAgent(\n",
    "    name=\"assistant\",\n",
    "    llm_config={\n",
    "        \"seed\": 42,  # seed for caching and reproducibility\n",
    "        \"config_list\": config_list,  # a list of OpenAI API configurations\n",
    "        \"temperature\": 0,  # temperature for sampling\n",
    "    },  # configuration for autogen's enhanced inference API which is compatible with OpenAI API\n",
    ")\n",
    "# create a UserProxyAgent instance named \"user_proxy\"\n",
    "user_proxy = autogen.UserProxyAgent(\n",
    "    name=\"user_proxy\",\n",
    "    human_input_mode=\"NEVER\",\n",
    "    max_consecutive_auto_reply=10,\n",
    "    is_termination_msg=lambda x: x.get(\"content\", \"\").rstrip().endswith(\"TERMINATE\"),\n",
    "    code_execution_config={\n",
    "        \"work_dir\": \"coding\",\n",
    "        \"use_docker\": False,  # set to True or image name like \"python:3\" to use docker\n",
    "    },\n",
    ")\n",
    "# the assistant receives a message from the user_proxy, which contains the task description\n",
    "user_proxy.initiate_chat(\n",
    "    assistant,\n",
    "    message=\"\"\"What date is today? Do a Bivariate Analysis of Google Stock since the beginning of the year\"\"\",\n",
    ")"
   ]
  },
  {
   "cell_type": "code",
   "execution_count": 22,
   "metadata": {},
   "outputs": [
    {
     "name": "stdout",
     "output_type": "stream",
     "text": [
      "\u001b[33muser_proxy\u001b[0m (to assistant):\n",
      "\n",
      "Plot a chart of this and save to google_analysis.png.\n",
      "\n",
      "--------------------------------------------------------------------------------\n",
      "\u001b[33massistant\u001b[0m (to user_proxy):\n",
      "\n",
      "To plot the chart and save it as `google_analysis.png`, we need to modify the script slightly to include the saving functionality. Here is the updated script:\n",
      "\n",
      "```python\n",
      "# filename: google_stock_analysis.py\n",
      "\n",
      "import yfinance as yf\n",
      "import pandas as pd\n",
      "import matplotlib.pyplot as plt\n",
      "import seaborn as sns\n",
      "from datetime import datetime\n",
      "\n",
      "# Get the current date\n",
      "current_date = datetime.now().strftime(\"%Y-%m-%d\")\n",
      "\n",
      "# Define the start date (beginning of the year)\n",
      "start_date = f\"{datetime.now().year}-01-01\"\n",
      "\n",
      "# Download Google stock data\n",
      "ticker = \"GOOGL\"\n",
      "data = yf.download(ticker, start=start_date, end=current_date)\n",
      "\n",
      "# Check if data is available\n",
      "if data.empty:\n",
      "    print(\"No data found for the specified date range.\")\n",
      "else:\n",
      "    # Perform bivariate analysis\n",
      "    # Plotting Closing Price vs Volume\n",
      "    plt.figure(figsize=(14, 7))\n",
      "    sns.scatterplot(x=data['Volume'], y=data['Close'])\n",
      "    plt.title('Bivariate Analysis of Google Stock (Closing Price vs Volume)')\n",
      "    plt.xlabel('Volume')\n",
      "    plt.ylabel('Closing Price')\n",
      "    plt.grid(True)\n",
      "    \n",
      "    # Save the plot to a file\n",
      "    plt.savefig('google_analysis.png')\n",
      "    plt.show()\n",
      "\n",
      "    # Print the first few rows of the data for reference\n",
      "    print(data.head())\n",
      "```\n",
      "\n",
      "Please save the above code in a file named `google_stock_analysis.py` and execute it. This script will:\n",
      "1. Download the Google stock data from the beginning of the year to the current date.\n",
      "2. Perform a bivariate analysis by plotting the closing prices against the volumes.\n",
      "3. Save the plot as `google_analysis.png`.\n",
      "4. Display the plot.\n",
      "5. Print the first few rows of the data for reference.\n",
      "\n",
      "Let me know the results of the execution.\n",
      "\n",
      "--------------------------------------------------------------------------------\n",
      "\u001b[31m\n",
      ">>>>>>>> EXECUTING CODE BLOCK 0 (inferred language is python)...\u001b[0m\n",
      "\u001b[33muser_proxy\u001b[0m (to assistant):\n",
      "\n",
      "exitcode: 0 (execution succeeded)\n",
      "Code output: \n",
      "Figure(1400x700)\n",
      "                  Open        High  ...   Adj Close    Volume\n",
      "Date                                ...                      \n",
      "2024-01-02  138.550003  139.449997  ...  138.011597  23711200\n",
      "2024-01-03  137.250000  139.630005  ...  138.760742  24212100\n",
      "2024-01-04  138.419998  139.160004  ...  136.233643  27137700\n",
      "2024-01-05  136.750000  137.160004  ...  135.574402  22506000\n",
      "2024-01-08  136.289993  139.009995  ...  138.680832  21404000\n",
      "\n",
      "[5 rows x 6 columns]\n",
      "\n",
      "\n",
      "--------------------------------------------------------------------------------\n",
      "\u001b[33massistant\u001b[0m (to user_proxy):\n",
      "\n",
      "The script executed successfully, and the plot has been saved as `google_analysis.png`. The first few rows of the data were also printed for reference.\n",
      "\n",
      "To summarize:\n",
      "- The Google stock data from the beginning of the year to the current date was successfully downloaded.\n",
      "- A scatter plot showing the relationship between the closing prices and volumes was generated and saved as `google_analysis.png`.\n",
      "\n",
      "You should now have the file `google_analysis.png` in your working directory. If you need any further analysis or have any other questions, feel free to ask.\n",
      "\n",
      "TERMINATE\n",
      "\n",
      "--------------------------------------------------------------------------------\n"
     ]
    }
   ],
   "source": [
    "# followup of the previous question\n",
    "user_proxy.send(\n",
    "    recipient=assistant,\n",
    "    message=\"\"\"Plot a chart of this and save to google_analysis.png.\"\"\",\n",
    ")"
   ]
  },
  {
   "cell_type": "code",
   "execution_count": 20,
   "metadata": {},
   "outputs": [
    {
     "data": {
      "image/png": "[encoded data removed]",
      "text/plain": [
       "<IPython.core.display.Image object>"
      ]
     },
     "execution_count": 20,
     "metadata": {},
     "output_type": "execute_result"
    }
   ],
   "source": [
    "from IPython.display import Image\n",
    "\n",
    "Image(filename='coding/google_analysis.png')"
   ]
  }
 ],
 "metadata": {
  "kernelspec": {
   "display_name": ".venv",
   "language": "python",
   "name": "python3"
  },
  "language_info": {
   "codemirror_mode": {
    "name": "ipython",
    "version": 3
   },
   "file_extension": ".py",
   "mimetype": "text/x-python",
   "name": "python",
   "nbconvert_exporter": "python",
   "pygments_lexer": "ipython3",
   "version": "3.10.13"
  }
 },
 "nbformat": 4,
 "nbformat_minor": 2
}
